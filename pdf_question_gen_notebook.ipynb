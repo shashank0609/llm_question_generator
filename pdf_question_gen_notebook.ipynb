{
 "cells": [
  {
   "cell_type": "code",
   "execution_count": null,
   "metadata": {},
   "outputs": [],
   "source": [
    "# Install dependencies if not already installed\n",
    "!pip install langchain langchain-openai pypdf pandas numpy python-dotenv azure-identity"
   ]
  },
  {
   "cell_type": "code",
   "execution_count": null,
   "metadata": {},
   "outputs": [],
   "source": [
    "# Import required libraries\n",
    "from question_generator import PDFQuestionGenerator\n",
    "import os\n",
    "import pandas as pd\n",
    "\n",
    "# Load environment variables\n",
    "AZURE_OPENAI_API_KEY = os.getenv(\"AZURE_OPENAI_API_KEY\")\n",
    "AZURE_OPENAI_ENDPOINT = os.getenv(\"AZURE_OPENAI_ENDPOINT\")\n",
    "AZURE_OPENAI_DEPLOYMENT = os.getenv(\"AZURE_OPENAI_DEPLOYMENT\", \"gpt-4\")\n",
    "AZURE_OPENAI_API_VERSION = os.getenv(\"AZURE_OPENAI_API_VERSION\", \"2024-02-15-preview\")\n",
    "\n",
    "# Initialize PDF Question Generator\n",
    "generator = PDFQuestionGenerator(\n",
    "    azure_openai_key=AZURE_OPENAI_API_KEY,\n",
    "    azure_openai_endpoint=AZURE_OPENAI_ENDPOINT,\n",
    "    deployment_name=AZURE_OPENAI_DEPLOYMENT,\n",
    "    api_version=AZURE_OPENAI_API_VERSION\n",
    ")\n",
    "\n",
    "# Define PDFs and number of questions per PDF\n",
    "pdf_paths = [\"sample_wealth_management_1.pdf\", \"sample_wealth_management_2.pdf\"]\n",
    "questions_per_pdf = 5  # Configurable\n",
    "\n",
    "# Generate questions\n",
    "results = generator.generate_questions_from_multiple_pdfs(pdf_paths, questions_per_pdf)\n",
    "\n",
    "# Convert to DataFrame\n",
    "for pdf, questions in results.items():\n",
    "    print(f\"\\n📄 Questions from {pdf}:\")\n",
    "    df = pd.DataFrame(questions)\n",
    "    print(df)\n"
   ]
  },
  {
   "cell_type": "code",
   "execution_count": null,
   "metadata": {},
   "outputs": [],
   "source": [
    "# Define the PDF file and number of questions required\n",
    "pdf_path = \"sample_wealth_management.pdf\"\n",
    "questions_per_pdf = 5  # Configurable\n",
    "\n",
    "# Generate questions from a single PDF\n",
    "questions = generator.generate_questions_from_pdf(pdf_path, questions_per_pdf)\n",
    "\n",
    "# Convert to DataFrame and display results\n",
    "df = pd.DataFrame(questions)\n",
    "print(\"\\n📄 Generated Questions from the PDF:\")\n",
    "print(df)"
   ]
  }
 ],
 "metadata": {
  "kernelspec": {
   "display_name": "Python 3",
   "language": "python",
   "name": "python3"
  },
  "language_info": {
   "name": "python",
   "version": "3.11.0"
  }
 },
 "nbformat": 4,
 "nbformat_minor": 2
}
